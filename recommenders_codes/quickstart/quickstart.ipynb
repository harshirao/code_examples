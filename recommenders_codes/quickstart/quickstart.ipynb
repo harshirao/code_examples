{
  "cells": [
    {
      "cell_type": "markdown",
      "metadata": {
        "id": "eVIWQMjO3zfo"
      },
      "source": [
        "# Quickstart\n",
        "#### [Base Code link: https://github.com/lyst/lightfm/blob/master/examples/quickstart/quickstart.ipynb ]\n",
        "In this example, we'll build an implicit feedback recommender using the Movielens 100k dataset (http://grouplens.org/datasets/movielens/100k/).\n",
        "\n",
        "The code behind this example is available as a [Jupyter notebook](https://github.com/lyst/lightfm/tree/master/examples/quickstart/quickstart.ipynb)\n",
        "\n",
        "LightFM includes functions for getting and processing this dataset, so obtaining it is quite easy."
      ]
    },
    {
      "cell_type": "code",
      "source": [
        "!pip install lightfm"
      ],
      "metadata": {
        "colab": {
          "base_uri": "https://localhost:8080/"
        },
        "id": "i1vPUtRI37mA",
        "outputId": "121b89af-d684-4b86-8737-4fb98914c232"
      },
      "execution_count": 1,
      "outputs": [
        {
          "output_type": "stream",
          "name": "stdout",
          "text": [
            "Looking in indexes: https://pypi.org/simple, https://us-python.pkg.dev/colab-wheels/public/simple/\n",
            "Requirement already satisfied: lightfm in /usr/local/lib/python3.8/dist-packages (1.16)\n",
            "Requirement already satisfied: scipy>=0.17.0 in /usr/local/lib/python3.8/dist-packages (from lightfm) (1.7.3)\n",
            "Requirement already satisfied: numpy in /usr/local/lib/python3.8/dist-packages (from lightfm) (1.21.6)\n",
            "Requirement already satisfied: requests in /usr/local/lib/python3.8/dist-packages (from lightfm) (2.23.0)\n",
            "Requirement already satisfied: scikit-learn in /usr/local/lib/python3.8/dist-packages (from lightfm) (1.0.2)\n",
            "Requirement already satisfied: urllib3!=1.25.0,!=1.25.1,<1.26,>=1.21.1 in /usr/local/lib/python3.8/dist-packages (from requests->lightfm) (1.24.3)\n",
            "Requirement already satisfied: idna<3,>=2.5 in /usr/local/lib/python3.8/dist-packages (from requests->lightfm) (2.10)\n",
            "Requirement already satisfied: chardet<4,>=3.0.2 in /usr/local/lib/python3.8/dist-packages (from requests->lightfm) (3.0.4)\n",
            "Requirement already satisfied: certifi>=2017.4.17 in /usr/local/lib/python3.8/dist-packages (from requests->lightfm) (2022.12.7)\n",
            "Requirement already satisfied: threadpoolctl>=2.0.0 in /usr/local/lib/python3.8/dist-packages (from scikit-learn->lightfm) (3.1.0)\n",
            "Requirement already satisfied: joblib>=0.11 in /usr/local/lib/python3.8/dist-packages (from scikit-learn->lightfm) (1.2.0)\n"
          ]
        }
      ]
    },
    {
      "cell_type": "code",
      "execution_count": 2,
      "metadata": {
        "id": "ForL0fiH3zfs"
      },
      "outputs": [],
      "source": [
        "import numpy as np\n",
        "\n",
        "from lightfm.datasets import fetch_movielens\n",
        "\n",
        "data = fetch_movielens(min_rating=5.0)"
      ]
    },
    {
      "cell_type": "markdown",
      "metadata": {
        "id": "8YIQybiZ3zfu"
      },
      "source": [
        "This downloads the dataset and automatically pre-processes it into sparse matrices suitable for further calculation. In particular, it prepares the sparse user-item matrices, containing positive entries where a user interacted with a product, and zeros otherwise.\n",
        "\n",
        "We have two such matrices, a training and a testing set. Both have around 1000 users and 1700 items. We'll train the model on the train matrix but test it on the test matrix."
      ]
    },
    {
      "cell_type": "code",
      "execution_count": 3,
      "metadata": {
        "colab": {
          "base_uri": "https://localhost:8080/"
        },
        "id": "apdMq4YU3zfu",
        "outputId": "4f3ff1d1-1005-4fd2-a378-b16a46a09b7e"
      },
      "outputs": [
        {
          "output_type": "stream",
          "name": "stdout",
          "text": [
            "<943x1682 sparse matrix of type '<class 'numpy.int32'>'\n",
            "\twith 19048 stored elements in COOrdinate format>\n",
            "<943x1682 sparse matrix of type '<class 'numpy.int32'>'\n",
            "\twith 2153 stored elements in COOrdinate format>\n"
          ]
        }
      ],
      "source": [
        "print(repr(data['train']))\n",
        "print(repr(data['test']))"
      ]
    },
    {
      "cell_type": "markdown",
      "metadata": {
        "id": "SSIysx0e3zfv"
      },
      "source": [
        "We need to import the model class to fit the model:"
      ]
    },
    {
      "cell_type": "code",
      "execution_count": 4,
      "metadata": {
        "collapsed": true,
        "id": "BzWyXHKP3zfw"
      },
      "outputs": [],
      "source": [
        "from lightfm import LightFM"
      ]
    },
    {
      "cell_type": "markdown",
      "metadata": {
        "id": "rP1RWNqv3zfw"
      },
      "source": [
        "We're going to use the WARP (Weighted Approximate-Rank Pairwise) model. WARP is an implicit feedback model: all interactions in the training matrix are treated as positive signals, and products that users did not interact with they implicitly do not like. The goal of the model is to score these implicit positives highly while assigining low scores to implicit negatives.\n",
        "\n",
        "Model training is accomplished via SGD (stochastic gradient descent). This means that for every pass through the data --- an epoch --- the model learns to fit the data more and more closely. We'll run it for 30 epochs in this example. We can also run it on multiple cores, so we'll set that to 2. (The dataset in this example is too small for that to make a difference, but it will matter on bigger datasets.)"
      ]
    },
    {
      "cell_type": "code",
      "execution_count": 5,
      "metadata": {
        "colab": {
          "base_uri": "https://localhost:8080/"
        },
        "id": "xqfrYe4w3zfx",
        "outputId": "b0d866f7-bf07-4d17-b1e9-ed583921d732"
      },
      "outputs": [
        {
          "output_type": "stream",
          "name": "stdout",
          "text": [
            "CPU times: user 789 ms, sys: 4.66 ms, total: 794 ms\n",
            "Wall time: 449 ms\n"
          ]
        },
        {
          "output_type": "execute_result",
          "data": {
            "text/plain": [
              "<lightfm.lightfm.LightFM at 0x7f8422e38b20>"
            ]
          },
          "metadata": {},
          "execution_count": 5
        }
      ],
      "source": [
        "model = LightFM(loss='warp')\n",
        "%time model.fit(data['train'], epochs=30, num_threads=2)"
      ]
    },
    {
      "cell_type": "markdown",
      "metadata": {
        "id": "6sp_SvDH3zfy"
      },
      "source": [
        "Done! We should now evaluate the model to see how well it's doing. We're most interested in how good the ranking produced by the model is. Precision@k is one suitable metric, expressing the percentage of top k items in the ranking the user has actually interacted with. `lightfm` implements a number of metrics in the `evaluation` module. "
      ]
    },
    {
      "cell_type": "code",
      "execution_count": 6,
      "metadata": {
        "collapsed": true,
        "id": "sAyYmCFD3zfy"
      },
      "outputs": [],
      "source": [
        "from lightfm.evaluation import precision_at_k"
      ]
    },
    {
      "cell_type": "markdown",
      "metadata": {
        "id": "o6haNoR_3zfz"
      },
      "source": [
        "We'll measure precision in both the train and the test set."
      ]
    },
    {
      "cell_type": "code",
      "execution_count": 7,
      "metadata": {
        "colab": {
          "base_uri": "https://localhost:8080/"
        },
        "id": "Hk-4tZV03zfz",
        "outputId": "8c95a191-40b4-4da5-99b2-27104d19346d"
      },
      "outputs": [
        {
          "output_type": "stream",
          "name": "stdout",
          "text": [
            "Train precision: 0.41\n",
            "Test precision: 0.05\n"
          ]
        }
      ],
      "source": [
        "print(\"Train precision: %.2f\" % precision_at_k(model, data['train'], k=5).mean())\n",
        "print(\"Test precision: %.2f\" % precision_at_k(model, data['test'], k=5).mean())"
      ]
    },
    {
      "cell_type": "markdown",
      "metadata": {
        "id": "_ZVvOHhh3zf0"
      },
      "source": [
        "Unsurprisingly, the model fits the train set better than the test set.\n",
        "\n",
        "For an alternative way of judging the model, we can sample a couple of users and get their recommendations. To make predictions for given user, we pass the id of that user and the ids of all products we want predictions for into the `predict` method."
      ]
    },
    {
      "cell_type": "code",
      "execution_count": 8,
      "metadata": {
        "colab": {
          "base_uri": "https://localhost:8080/"
        },
        "id": "vGtxXk9b3zf0",
        "outputId": "c473a981-3697-4caf-ee4f-5aff33d4b383"
      },
      "outputs": [
        {
          "output_type": "stream",
          "name": "stdout",
          "text": [
            "User 3\n",
            "     Known positives:\n",
            "        Contact (1997)\n",
            "        Air Force One (1997)\n",
            "        In & Out (1997)\n",
            "     Recommended:\n",
            "        Air Force One (1997)\n",
            "        Evita (1996)\n",
            "        Postman, The (1997)\n",
            "User 25\n",
            "     Known positives:\n",
            "        Fargo (1996)\n",
            "        Godfather, The (1972)\n",
            "        L.A. Confidential (1997)\n",
            "     Recommended:\n",
            "        Titanic (1997)\n",
            "        L.A. Confidential (1997)\n",
            "        Fargo (1996)\n",
            "User 450\n",
            "     Known positives:\n",
            "        Event Horizon (1997)\n",
            "        Scream (1996)\n",
            "        Conspiracy Theory (1997)\n",
            "     Recommended:\n",
            "        Scream (1996)\n",
            "        Ransom (1996)\n",
            "        G.I. Jane (1997)\n"
          ]
        }
      ],
      "source": [
        "def sample_recommendation(model, data, user_ids):\n",
        "    \n",
        "\n",
        "    n_users, n_items = data['train'].shape\n",
        "\n",
        "    for user_id in user_ids:\n",
        "        known_positives = data['item_labels'][data['train'].tocsr()[user_id].indices]\n",
        "        \n",
        "        scores = model.predict(user_id, np.arange(n_items))\n",
        "        top_items = data['item_labels'][np.argsort(-scores)]\n",
        "        \n",
        "        print(\"User %s\" % user_id)\n",
        "        print(\"     Known positives:\")\n",
        "        \n",
        "        for x in known_positives[:3]:\n",
        "            print(\"        %s\" % x)\n",
        "\n",
        "        print(\"     Recommended:\")\n",
        "        \n",
        "        for x in top_items[:3]:\n",
        "            print(\"        %s\" % x)\n",
        "        \n",
        "sample_recommendation(model, data, [3, 25, 450]) "
      ]
    },
    {
      "cell_type": "code",
      "execution_count": 8,
      "metadata": {
        "collapsed": true,
        "id": "BM-pFRRl3zf1"
      },
      "outputs": [],
      "source": []
    }
  ],
  "metadata": {
    "kernelspec": {
      "display_name": "Python 2",
      "language": "python",
      "name": "python2"
    },
    "language_info": {
      "codemirror_mode": {
        "name": "ipython",
        "version": 2
      },
      "file_extension": ".py",
      "mimetype": "text/x-python",
      "name": "python",
      "nbconvert_exporter": "python",
      "pygments_lexer": "ipython2",
      "version": "2.7.10"
    },
    "colab": {
      "provenance": []
    }
  },
  "nbformat": 4,
  "nbformat_minor": 0
}