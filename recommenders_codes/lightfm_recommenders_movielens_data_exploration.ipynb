{
  "nbformat": 4,
  "nbformat_minor": 0,
  "metadata": {
    "colab": {
      "provenance": []
    },
    "kernelspec": {
      "name": "python3",
      "display_name": "Python 3"
    },
    "language_info": {
      "name": "python"
    }
  },
  "cells": [
    {
      "cell_type": "markdown",
      "source": [
        "# LightFM: A Hybrid Recommendation algorithm \n",
        "#### https://github.com/lyst/lightfm "
      ],
      "metadata": {
        "id": "Llu1bYybAo9D"
      }
    },
    {
      "cell_type": "markdown",
      "source": [
        "LightFM is a Python implementation of a number of popular recommendation algorithms for both implicit and explicit feedback, including efficient implementation of BPR and WARP ranking losses. It's easy to use, fast (via multithreaded model estimation), and produces high quality results. It also makes it possible to incorporate both item and user metadata into the traditional matrix factorization algorithms. It represents each user and item as the sum of the latent representations of their features, thus allowing recommendations to generalise to new items (via item features) and to new users (via user features)."
      ],
      "metadata": {
        "id": "PfkB3njsBWpP"
      }
    },
    {
      "cell_type": "code",
      "source": [
        "!pip install lightfm"
      ],
      "metadata": {
        "id": "Eye-TsYVYtLy",
        "colab": {
          "base_uri": "https://localhost:8080/"
        },
        "outputId": "4d50ff11-7b5c-4549-88e3-86520e542651"
      },
      "execution_count": 8,
      "outputs": [
        {
          "output_type": "stream",
          "name": "stdout",
          "text": [
            "Looking in indexes: https://pypi.org/simple, https://us-python.pkg.dev/colab-wheels/public/simple/\n",
            "Requirement already satisfied: lightfm in /usr/local/lib/python3.8/dist-packages (1.16)\n",
            "Requirement already satisfied: requests in /usr/local/lib/python3.8/dist-packages (from lightfm) (2.23.0)\n",
            "Requirement already satisfied: scikit-learn in /usr/local/lib/python3.8/dist-packages (from lightfm) (1.0.2)\n",
            "Requirement already satisfied: scipy>=0.17.0 in /usr/local/lib/python3.8/dist-packages (from lightfm) (1.7.3)\n",
            "Requirement already satisfied: numpy in /usr/local/lib/python3.8/dist-packages (from lightfm) (1.21.6)\n",
            "Requirement already satisfied: chardet<4,>=3.0.2 in /usr/local/lib/python3.8/dist-packages (from requests->lightfm) (3.0.4)\n",
            "Requirement already satisfied: urllib3!=1.25.0,!=1.25.1,<1.26,>=1.21.1 in /usr/local/lib/python3.8/dist-packages (from requests->lightfm) (1.24.3)\n",
            "Requirement already satisfied: certifi>=2017.4.17 in /usr/local/lib/python3.8/dist-packages (from requests->lightfm) (2022.12.7)\n",
            "Requirement already satisfied: idna<3,>=2.5 in /usr/local/lib/python3.8/dist-packages (from requests->lightfm) (2.10)\n",
            "Requirement already satisfied: threadpoolctl>=2.0.0 in /usr/local/lib/python3.8/dist-packages (from scikit-learn->lightfm) (3.1.0)\n",
            "Requirement already satisfied: joblib>=0.11 in /usr/local/lib/python3.8/dist-packages (from scikit-learn->lightfm) (1.2.0)\n"
          ]
        }
      ]
    },
    {
      "cell_type": "code",
      "execution_count": 9,
      "metadata": {
        "id": "QtDQ53UnYhPe"
      },
      "outputs": [],
      "source": [
        "import numpy as np\n",
        "import pandas as pd\n",
        "# import the \"lightfm\" hybrid recommendation algorithm package\n",
        "from lightfm import LightFM\n",
        "from lightfm.datasets import fetch_movielens\n",
        "from lightfm.evaluation import precision_at_k"
      ]
    },
    {
      "cell_type": "markdown",
      "source": [
        "## Data Exploration of MovieLens dataset"
      ],
      "metadata": {
        "id": "GYvk6ak3eNQi"
      }
    },
    {
      "cell_type": "code",
      "source": [
        "# Fetch full dataset\n",
        "# https://github.com/lyst/lightfm/tree/master/examples/movielens#getting-the-data\n",
        "data_mld = fetch_movielens()\n",
        "print(data_mld)"
      ],
      "metadata": {
        "id": "Wp1wCf3EY192",
        "colab": {
          "base_uri": "https://localhost:8080/"
        },
        "outputId": "5aba77b4-9940-4864-8c10-883888283db0"
      },
      "execution_count": 10,
      "outputs": [
        {
          "output_type": "stream",
          "name": "stdout",
          "text": [
            "{'train': <943x1682 sparse matrix of type '<class 'numpy.int32'>'\n",
            "\twith 90570 stored elements in COOrdinate format>, 'test': <943x1682 sparse matrix of type '<class 'numpy.int32'>'\n",
            "\twith 9430 stored elements in COOrdinate format>, 'item_features': <1682x1682 sparse matrix of type '<class 'numpy.float32'>'\n",
            "\twith 1682 stored elements in Compressed Sparse Row format>, 'item_feature_labels': array(['Toy Story (1995)', 'GoldenEye (1995)', 'Four Rooms (1995)', ...,\n",
            "       'Sliding Doors (1998)', 'You So Crazy (1994)',\n",
            "       'Scream of Stone (Schrei aus Stein) (1991)'], dtype=object), 'item_labels': array(['Toy Story (1995)', 'GoldenEye (1995)', 'Four Rooms (1995)', ...,\n",
            "       'Sliding Doors (1998)', 'You So Crazy (1994)',\n",
            "       'Scream of Stone (Schrei aus Stein) (1991)'], dtype=object)}\n"
          ]
        }
      ]
    },
    {
      "cell_type": "code",
      "source": [
        "for key, value in data_mld.items():\n",
        "    print(key, type(value), value.shape)"
      ],
      "metadata": {
        "colab": {
          "base_uri": "https://localhost:8080/"
        },
        "id": "_gD6rZiwpYmX",
        "outputId": "f11af1f9-1834-4be3-d852-273c0e108143"
      },
      "execution_count": 11,
      "outputs": [
        {
          "output_type": "stream",
          "name": "stdout",
          "text": [
            "train <class 'scipy.sparse.coo.coo_matrix'> (943, 1682)\n",
            "test <class 'scipy.sparse.coo.coo_matrix'> (943, 1682)\n",
            "item_features <class 'scipy.sparse.csr.csr_matrix'> (1682, 1682)\n",
            "item_feature_labels <class 'numpy.ndarray'> (1682,)\n",
            "item_labels <class 'numpy.ndarray'> (1682,)\n"
          ]
        }
      ]
    },
    {
      "cell_type": "markdown",
      "source": [
        "#### Observations:\n",
        "- 'train' and 'test' are sparse coordinate matrices with size (1682, 1682); each having 90570 and 9430 movie ratings for the 943 users and 1682 movies\n",
        "- 'item_features' is a sparse diagonal CSR matrix for movies with size (1682, 1682)\n",
        "- 'item_feature_labels' and 'item_labels' are arrays of size 1682: consisting of movie titles\n"
      ],
      "metadata": {
        "id": "A2zKXZn7n0st"
      }
    },
    {
      "cell_type": "code",
      "source": [
        "# print(data_mld['train'])\n",
        "# print(data_mld['test'])"
      ],
      "metadata": {
        "id": "G2wjrva4YyvP"
      },
      "execution_count": 18,
      "outputs": []
    },
    {
      "cell_type": "code",
      "source": [
        "# Convert train and test datasets from sparse Coordinate matrix to sparse CSR matrix (to access indices)\n",
        "train_csr_mld = data_mld['train'].tocsr() \n",
        "test_csr_mld = data_mld['test'].tocsr()\n",
        "\n",
        "print(type(train_csr_mld), train_csr_mld.shape)  #<class 'scipy.sparse.csr.csr_matrix'> (943, 1682)\n",
        "print(type(test_csr_mld), test_csr_mld.shape)\n",
        "# print(train_csr_mld)"
      ],
      "metadata": {
        "colab": {
          "base_uri": "https://localhost:8080/"
        },
        "id": "p2ClmEJ6Y6NR",
        "outputId": "d7c67204-76d1-439b-8ef4-30ad6c51cd2b"
      },
      "execution_count": 19,
      "outputs": [
        {
          "output_type": "stream",
          "name": "stdout",
          "text": [
            "<class 'scipy.sparse.csr.csr_matrix'> (943, 1682)\n",
            "<class 'scipy.sparse.csr.csr_matrix'> (943, 1682)\n"
          ]
        }
      ]
    },
    {
      "cell_type": "code",
      "source": [
        "# Convert train and test datasets from sparse Coordinate matrix to dense matrix \n",
        "train_dense_mld = data_mld['train'].todense() \n",
        "test_dense_mld = data_mld['test'].todense()\n",
        "\n",
        "print(type(train_dense_mld), train_dense_mld.shape)  #<class 'numpy.matrix'> (943, 1682)\n",
        "print(type(test_dense_mld), test_dense_mld.shape)\n",
        "# print(train_dense_mld)"
      ],
      "metadata": {
        "colab": {
          "base_uri": "https://localhost:8080/"
        },
        "id": "3VzAghLDfQTu",
        "outputId": "cc1988c7-051c-4273-fce0-50df2d7890c2"
      },
      "execution_count": 20,
      "outputs": [
        {
          "output_type": "stream",
          "name": "stdout",
          "text": [
            "<class 'numpy.matrix'> (943, 1682)\n",
            "<class 'numpy.matrix'> (943, 1682)\n"
          ]
        }
      ]
    },
    {
      "cell_type": "code",
      "source": [
        "# Analyze train_csr_mld & train_dense_mld matrics\n",
        "print(\"train_csr_mld with 1st user's 1st movie's rating\")\n",
        "print(train_csr_mld[0,0])\n",
        "print(\"train_dense_mld with 1st user's 1st movie's rating\")\n",
        "print(train_dense_mld[0,0])\n",
        "\n",
        "print('\\n')\n",
        "print(\"train_csr_mld with 1st user's 5 movies' (coordinate) ratings\")\n",
        "print(train_csr_mld[0,0:5])\n",
        "print(\"train_dense_mld with 1st user's 5 movies' (matrix) ratings\")\n",
        "print(train_dense_mld[0,0:5])\n",
        "\n",
        "print('\\n')\n",
        "print(\"train_csr_mld with 1st movie's (coordinate) ratings (if exists) for user_id in [1,10]\")\n",
        "print(train_csr_mld[0:10,0])\n",
        "print(\"train_dense_mld with 1st movie's (matrix) ratings for user_id in [1,10]\")\n",
        "print(train_dense_mld[0:10,0])\n",
        "\n",
        "print('\\n')\n",
        "print(\"train_csr_mld with 1st 5 movies' (coordinate) ratings (if exists) for user_id in [1,10]\")\n",
        "print(train_csr_mld[0:10,0:5])\n",
        "print(\"train_dense_mld with 1st 5 movies' (matrix) ratings for user_id in [1,10]\")\n",
        "print(train_dense_mld[0:10,0:5])"
      ],
      "metadata": {
        "colab": {
          "base_uri": "https://localhost:8080/"
        },
        "id": "5ZVjdivSY0Ps",
        "outputId": "019e8ca8-f05f-41cd-bb22-06b4c59c6df8"
      },
      "execution_count": 21,
      "outputs": [
        {
          "output_type": "stream",
          "name": "stdout",
          "text": [
            "train_csr_mld with 1st user's 1st movie's rating\n",
            "5\n",
            "train_dense_mld with 1st user's 1st movie's rating\n",
            "5\n",
            "\n",
            "\n",
            "train_csr_mld with 1st user's 5 movies' (coordinate) ratings\n",
            "  (0, 0)\t5\n",
            "  (0, 1)\t3\n",
            "  (0, 2)\t4\n",
            "  (0, 3)\t3\n",
            "  (0, 4)\t3\n",
            "train_dense_mld with 1st user's 5 movies' (matrix) ratings\n",
            "[[5 3 4 3 3]]\n",
            "\n",
            "\n",
            "train_csr_mld with 1st movie's (coordinate) ratings (if exists) for user_id in [1-10]\n",
            "  (0, 0)\t5\n",
            "  (1, 0)\t4\n",
            "  (5, 0)\t4\n",
            "  (9, 0)\t4\n",
            "train_dense_mld with 1st movie's (matrix) ratings for user_id in [1-10]\n",
            "[[5]\n",
            " [4]\n",
            " [0]\n",
            " [0]\n",
            " [0]\n",
            " [4]\n",
            " [0]\n",
            " [0]\n",
            " [0]\n",
            " [4]]\n",
            "\n",
            "\n",
            "train_csr_mld with 1st 5 movies' (coordinate) ratings (if exists) for user_id in [1-10]\n",
            "  (0, 0)\t5\n",
            "  (0, 1)\t3\n",
            "  (0, 2)\t4\n",
            "  (0, 3)\t3\n",
            "  (0, 4)\t3\n",
            "  (1, 0)\t4\n",
            "  (5, 0)\t4\n",
            "  (6, 3)\t5\n",
            "  (9, 0)\t4\n",
            "  (9, 3)\t4\n",
            "train_dense_mld with 1st 5 movies' (matrix) ratings for user_id in [1-10]\n",
            "[[5 3 4 3 3]\n",
            " [4 0 0 0 0]\n",
            " [0 0 0 0 0]\n",
            " [0 0 0 0 0]\n",
            " [0 0 0 0 0]\n",
            " [4 0 0 0 0]\n",
            " [0 0 0 5 0]\n",
            " [0 0 0 0 0]\n",
            " [0 0 0 0 0]\n",
            " [4 0 0 4 0]]\n"
          ]
        }
      ]
    },
    {
      "cell_type": "code",
      "source": [
        "# Analyze item_features & item_features_dense_mld\n",
        "item_features_csr_mld = data_mld['item_features']\n",
        "item_features_dense_mld = data_mld['item_features'].todense() \n",
        "print(type(item_features_csr_mld), type(item_features_dense_mld))\n",
        "\n",
        "print('\\n')\n",
        "print(\"item_features_csr_mld with 1st user's 1st movie's rating\")\n",
        "print(item_features_csr_mld[0,0])\n",
        "print(\"item_features_dense_mld with 1st user's 1st movie's rating\")\n",
        "print(item_features_dense_mld[0,0])\n",
        "\n",
        "print('\\n')\n",
        "print(\"item_features_csr_mld with 1st 5 movies' (coordinate) ratings (if exists) for user_id in [1,10]\")\n",
        "print(item_features_csr_mld[0:5,0:5])\n",
        "print(\"item_features_dense_mld with 1st 5 movies' (matrix) ratings for user_id in [1,10]\")\n",
        "print(item_features_dense_mld[0:5,0:5])\n"
      ],
      "metadata": {
        "colab": {
          "base_uri": "https://localhost:8080/"
        },
        "id": "soUr0bFuMr5e",
        "outputId": "70bab932-c5c4-4cb6-cd9c-fb789a9d9502"
      },
      "execution_count": 26,
      "outputs": [
        {
          "output_type": "stream",
          "name": "stdout",
          "text": [
            "<class 'scipy.sparse.csr.csr_matrix'> <class 'numpy.matrix'>\n",
            "\n",
            "\n",
            "item_features_csr_mld with 1st user's 1st movie's rating\n",
            "1.0\n",
            "item_features_dense_mld with 1st user's 1st movie's rating\n",
            "1.0\n",
            "\n",
            "\n",
            "item_features_csr_mld with 1st 5 movies' (coordinate) ratings (if exists) for user_id in [1,10]\n",
            "  (0, 0)\t1.0\n",
            "  (1, 1)\t1.0\n",
            "  (2, 2)\t1.0\n",
            "  (3, 3)\t1.0\n",
            "  (4, 4)\t1.0\n",
            "item_features_dense_mld with 1st 5 movies' (matrix) ratings for user_id in [1,10]\n",
            "[[1. 0. 0. 0. 0.]\n",
            " [0. 1. 0. 0. 0.]\n",
            " [0. 0. 1. 0. 0.]\n",
            " [0. 0. 0. 1. 0.]\n",
            " [0. 0. 0. 0. 1.]]\n"
          ]
        }
      ]
    },
    {
      "cell_type": "code",
      "source": [
        "# Analyze 'item_feature_labels' & 'item_labels'\n",
        "print(type(data_mld['item_feature_labels']), type(data_mld['item_labels']))\n",
        "print(len(data_mld['item_feature_labels']), len(data_mld['item_labels']))\n",
        "print(data_mld['item_feature_labels'])\n",
        "print(data_mld['item_labels'])\n",
        "print('\\n')\n",
        "print(np.unique(data_mld['item_feature_labels'] == data_mld['item_labels'], return_counts=True))\n",
        "print(\"'item_feature_labels' & 'item_labels' are the same arrays\")"
      ],
      "metadata": {
        "colab": {
          "base_uri": "https://localhost:8080/"
        },
        "id": "Gy5mnj42Mrpy",
        "outputId": "28a524dc-9e53-4994-e8ba-4ecddb063bf1"
      },
      "execution_count": 36,
      "outputs": [
        {
          "output_type": "stream",
          "name": "stdout",
          "text": [
            "<class 'numpy.ndarray'> <class 'numpy.ndarray'>\n",
            "1682 1682\n",
            "['Toy Story (1995)' 'GoldenEye (1995)' 'Four Rooms (1995)' ...\n",
            " 'Sliding Doors (1998)' 'You So Crazy (1994)'\n",
            " 'Scream of Stone (Schrei aus Stein) (1991)']\n",
            "['Toy Story (1995)' 'GoldenEye (1995)' 'Four Rooms (1995)' ...\n",
            " 'Sliding Doors (1998)' 'You So Crazy (1994)'\n",
            " 'Scream of Stone (Schrei aus Stein) (1991)']\n",
            "\n",
            "\n",
            "(array([ True]), array([1682]))\n",
            "'item_feature_labels' & 'item_labels' are the same arrays\n"
          ]
        }
      ]
    },
    {
      "cell_type": "code",
      "source": [],
      "metadata": {
        "id": "CNLIfGjvY9fd"
      },
      "execution_count": 36,
      "outputs": []
    },
    {
      "cell_type": "code",
      "source": [
        "# df_mld = pd.DataFrame(data = np.column_stack((train_mld, test_mld)) # {'train':train_mld, 'test':test_mld}\n",
        "#                       ,index = ['Row_' + str(i + 1) \n",
        "#                         for i in range(train_mld.shape[0])])\n",
        "# # df.plot('x', 'y', kind='scatter')\n",
        "# df_mld"
      ],
      "metadata": {
        "colab": {
          "base_uri": "https://localhost:8080/",
          "height": 389
        },
        "id": "H-MR41stXGan",
        "outputId": "5dedb92b-cbe5-4cf7-f33c-14ff903bf326"
      },
      "execution_count": 19,
      "outputs": [
        {
          "output_type": "error",
          "ename": "ValueError",
          "evalue": "ignored",
          "traceback": [
            "\u001b[0;31m---------------------------------------------------------------------------\u001b[0m",
            "\u001b[0;31mValueError\u001b[0m                                Traceback (most recent call last)",
            "\u001b[0;32m<ipython-input-19-89a3a1cd1ff6>\u001b[0m in \u001b[0;36m<module>\u001b[0;34m\u001b[0m\n\u001b[0;32m----> 1\u001b[0;31m df_mld = pd.DataFrame(data = np.column_stack((train_mld, test_mld)) # {'train':train_mld, 'test':test_mld}\n\u001b[0m\u001b[1;32m      2\u001b[0m                       ,index = ['Row_' + str(i + 1) \n\u001b[1;32m      3\u001b[0m                         for i in range(train_mld.shape[0])])\n\u001b[1;32m      4\u001b[0m \u001b[0;31m# df.plot('x', 'y', kind='scatter')\u001b[0m\u001b[0;34m\u001b[0m\u001b[0;34m\u001b[0m\u001b[0;34m\u001b[0m\u001b[0m\n\u001b[1;32m      5\u001b[0m \u001b[0mdf_mld\u001b[0m\u001b[0;34m\u001b[0m\u001b[0;34m\u001b[0m\u001b[0m\n",
            "\u001b[0;32m/usr/local/lib/python3.8/dist-packages/pandas/core/frame.py\u001b[0m in \u001b[0;36m__init__\u001b[0;34m(self, data, index, columns, dtype, copy)\u001b[0m\n\u001b[1;32m    670\u001b[0m                 )\n\u001b[1;32m    671\u001b[0m             \u001b[0;32melse\u001b[0m\u001b[0;34m:\u001b[0m\u001b[0;34m\u001b[0m\u001b[0;34m\u001b[0m\u001b[0m\n\u001b[0;32m--> 672\u001b[0;31m                 mgr = ndarray_to_mgr(\n\u001b[0m\u001b[1;32m    673\u001b[0m                     \u001b[0mdata\u001b[0m\u001b[0;34m,\u001b[0m\u001b[0;34m\u001b[0m\u001b[0;34m\u001b[0m\u001b[0m\n\u001b[1;32m    674\u001b[0m                     \u001b[0mindex\u001b[0m\u001b[0;34m,\u001b[0m\u001b[0;34m\u001b[0m\u001b[0;34m\u001b[0m\u001b[0m\n",
            "\u001b[0;32m/usr/local/lib/python3.8/dist-packages/pandas/core/internals/construction.py\u001b[0m in \u001b[0;36mndarray_to_mgr\u001b[0;34m(values, index, columns, dtype, copy, typ)\u001b[0m\n\u001b[1;32m    322\u001b[0m     )\n\u001b[1;32m    323\u001b[0m \u001b[0;34m\u001b[0m\u001b[0m\n\u001b[0;32m--> 324\u001b[0;31m     \u001b[0m_check_values_indices_shape_match\u001b[0m\u001b[0;34m(\u001b[0m\u001b[0mvalues\u001b[0m\u001b[0;34m,\u001b[0m \u001b[0mindex\u001b[0m\u001b[0;34m,\u001b[0m \u001b[0mcolumns\u001b[0m\u001b[0;34m)\u001b[0m\u001b[0;34m\u001b[0m\u001b[0;34m\u001b[0m\u001b[0m\n\u001b[0m\u001b[1;32m    325\u001b[0m \u001b[0;34m\u001b[0m\u001b[0m\n\u001b[1;32m    326\u001b[0m     \u001b[0;32mif\u001b[0m \u001b[0mtyp\u001b[0m \u001b[0;34m==\u001b[0m \u001b[0;34m\"array\"\u001b[0m\u001b[0;34m:\u001b[0m\u001b[0;34m\u001b[0m\u001b[0;34m\u001b[0m\u001b[0m\n",
            "\u001b[0;32m/usr/local/lib/python3.8/dist-packages/pandas/core/internals/construction.py\u001b[0m in \u001b[0;36m_check_values_indices_shape_match\u001b[0;34m(values, index, columns)\u001b[0m\n\u001b[1;32m    391\u001b[0m         \u001b[0mpassed\u001b[0m \u001b[0;34m=\u001b[0m \u001b[0mvalues\u001b[0m\u001b[0;34m.\u001b[0m\u001b[0mshape\u001b[0m\u001b[0;34m\u001b[0m\u001b[0;34m\u001b[0m\u001b[0m\n\u001b[1;32m    392\u001b[0m         \u001b[0mimplied\u001b[0m \u001b[0;34m=\u001b[0m \u001b[0;34m(\u001b[0m\u001b[0mlen\u001b[0m\u001b[0;34m(\u001b[0m\u001b[0mindex\u001b[0m\u001b[0;34m)\u001b[0m\u001b[0;34m,\u001b[0m \u001b[0mlen\u001b[0m\u001b[0;34m(\u001b[0m\u001b[0mcolumns\u001b[0m\u001b[0;34m)\u001b[0m\u001b[0;34m)\u001b[0m\u001b[0;34m\u001b[0m\u001b[0;34m\u001b[0m\u001b[0m\n\u001b[0;32m--> 393\u001b[0;31m         \u001b[0;32mraise\u001b[0m \u001b[0mValueError\u001b[0m\u001b[0;34m(\u001b[0m\u001b[0;34mf\"Shape of passed values is {passed}, indices imply {implied}\"\u001b[0m\u001b[0;34m)\u001b[0m\u001b[0;34m\u001b[0m\u001b[0;34m\u001b[0m\u001b[0m\n\u001b[0m\u001b[1;32m    394\u001b[0m \u001b[0;34m\u001b[0m\u001b[0m\n\u001b[1;32m    395\u001b[0m \u001b[0;34m\u001b[0m\u001b[0m\n",
            "\u001b[0;31mValueError\u001b[0m: Shape of passed values is (1, 2), indices imply (943, 2)"
          ]
        }
      ]
    },
    {
      "cell_type": "markdown",
      "source": [
        "# Modeling (Notebooks examples)"
      ],
      "metadata": {
        "id": "j6Y08GdYeXPR"
      }
    },
    {
      "cell_type": "markdown",
      "source": [
        "#### Example 1: https://github.com/lyst/lightfm/blob/master/examples/quickstart/short_quickstart.ipynb \n",
        "#### Fitting an implicit feedback model on the MovieLens 100k dataset using \"WARP\" (Weighted Approximate-Rank Pairwise) loss function"
      ],
      "metadata": {
        "id": "p58hkcrBe5fO"
      }
    },
    {
      "cell_type": "code",
      "source": [
        "# Short quickstart\n",
        "from lightfm import LightFM\n",
        "from lightfm.datasets import fetch_movielens\n",
        "from lightfm.evaluation import precision_at_k\n",
        "\n",
        "# Load the MovieLens 100k dataset. Only five\n",
        "# star ratings are treated as positive.\n",
        "data = fetch_movielens(min_rating=5.0)\n",
        "\n",
        "# Instantiate and train the model\n",
        "model = LightFM(loss='warp')\n",
        "model.fit(data['train'], epochs=30, num_threads=2)\n",
        "\n",
        "# Evaluate the trained model\n",
        "test_precision = precision_at_k(model, data['test'], k=5).mean()\n",
        "print(test_precision) # 0.049669746"
      ],
      "metadata": {
        "colab": {
          "base_uri": "https://localhost:8080/"
        },
        "id": "klj3bHdlaJRR",
        "outputId": "b8159d2a-1684-4038-d33f-e6e3db3e10a8"
      },
      "execution_count": 5,
      "outputs": [
        {
          "output_type": "stream",
          "name": "stdout",
          "text": [
            "0.049669746\n"
          ]
        }
      ]
    },
    {
      "cell_type": "code",
      "source": [],
      "metadata": {
        "id": "Q3znuINPV2Yh"
      },
      "execution_count": null,
      "outputs": []
    },
    {
      "cell_type": "markdown",
      "source": [
        "#### Example 2: https://github.com/lyst/lightfm/blob/master/examples/quickstart/quickstart.ipynb OR https://youtu.be/9gBC9R-msAk \n",
        "#### Fitting an implicit feedback model on the MovieLens 100k dataset using \"WARP\" (Weighted Approximate-Rank Pairwise) loss function"
      ],
      "metadata": {
        "id": "0vX1pgHa9bUA"
      }
    },
    {
      "cell_type": "code",
      "source": [],
      "metadata": {
        "id": "1a_z8sWGfRa7"
      },
      "execution_count": null,
      "outputs": []
    },
    {
      "cell_type": "markdown",
      "source": [],
      "metadata": {
        "id": "YrDtvLEOAm8W"
      }
    },
    {
      "cell_type": "code",
      "source": [],
      "metadata": {
        "id": "JKo05r5IfV8Z"
      },
      "execution_count": null,
      "outputs": []
    }
  ]
}