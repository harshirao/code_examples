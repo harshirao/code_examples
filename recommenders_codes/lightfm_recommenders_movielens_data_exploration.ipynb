{
  "nbformat": 4,
  "nbformat_minor": 0,
  "metadata": {
    "colab": {
      "provenance": []
    },
    "kernelspec": {
      "name": "python3",
      "display_name": "Python 3"
    },
    "language_info": {
      "name": "python"
    }
  },
  "cells": [
    {
      "cell_type": "markdown",
      "source": [
        "# LightFM: A Hybrid Recommendation algorithm \n",
        "#### https://github.com/lyst/lightfm "
      ],
      "metadata": {
        "id": "Llu1bYybAo9D"
      }
    },
    {
      "cell_type": "markdown",
      "source": [
        "LightFM is a Python implementation of a number of popular recommendation algorithms for both implicit and explicit feedback, including efficient implementation of BPR and WARP ranking losses. It's easy to use, fast (via multithreaded model estimation), and produces high quality results. It also makes it possible to incorporate both item and user metadata into the traditional matrix factorization algorithms. It represents each user and item as the sum of the latent representations of their features, thus allowing recommendations to generalise to new items (via item features) and to new users (via user features)."
      ],
      "metadata": {
        "id": "PfkB3njsBWpP"
      }
    },
    {
      "cell_type": "code",
      "source": [
        "!pip install lightfm"
      ],
      "metadata": {
        "id": "Eye-TsYVYtLy",
        "colab": {
          "base_uri": "https://localhost:8080/"
        },
        "outputId": "1e2f5e9a-110e-47bc-f9ab-f01b2c1795f2"
      },
      "execution_count": 1,
      "outputs": [
        {
          "output_type": "stream",
          "name": "stdout",
          "text": [
            "Looking in indexes: https://pypi.org/simple, https://us-python.pkg.dev/colab-wheels/public/simple/\n",
            "Requirement already satisfied: lightfm in /usr/local/lib/python3.8/dist-packages (1.16)\n",
            "Requirement already satisfied: scikit-learn in /usr/local/lib/python3.8/dist-packages (from lightfm) (1.0.2)\n",
            "Requirement already satisfied: numpy in /usr/local/lib/python3.8/dist-packages (from lightfm) (1.21.6)\n",
            "Requirement already satisfied: scipy>=0.17.0 in /usr/local/lib/python3.8/dist-packages (from lightfm) (1.7.3)\n",
            "Requirement already satisfied: requests in /usr/local/lib/python3.8/dist-packages (from lightfm) (2.23.0)\n",
            "Requirement already satisfied: chardet<4,>=3.0.2 in /usr/local/lib/python3.8/dist-packages (from requests->lightfm) (3.0.4)\n",
            "Requirement already satisfied: idna<3,>=2.5 in /usr/local/lib/python3.8/dist-packages (from requests->lightfm) (2.10)\n",
            "Requirement already satisfied: certifi>=2017.4.17 in /usr/local/lib/python3.8/dist-packages (from requests->lightfm) (2022.12.7)\n",
            "Requirement already satisfied: urllib3!=1.25.0,!=1.25.1,<1.26,>=1.21.1 in /usr/local/lib/python3.8/dist-packages (from requests->lightfm) (1.24.3)\n",
            "Requirement already satisfied: threadpoolctl>=2.0.0 in /usr/local/lib/python3.8/dist-packages (from scikit-learn->lightfm) (3.1.0)\n",
            "Requirement already satisfied: joblib>=0.11 in /usr/local/lib/python3.8/dist-packages (from scikit-learn->lightfm) (1.2.0)\n"
          ]
        }
      ]
    },
    {
      "cell_type": "code",
      "execution_count": 2,
      "metadata": {
        "id": "QtDQ53UnYhPe"
      },
      "outputs": [],
      "source": [
        "import numpy as np\n",
        "import pandas as pd\n",
        "# import the \"lightfm\" hybrid recommendation algorithm package\n",
        "from lightfm import LightFM # import the model class to fit the model\n",
        "from lightfm.datasets import fetch_movielens # import the Movielens 100k dataset\n",
        "from lightfm.evaluation import precision_at_k # "
      ]
    },
    {
      "cell_type": "markdown",
      "source": [
        "## Data Exploration of MovieLens dataset"
      ],
      "metadata": {
        "id": "GYvk6ak3eNQi"
      }
    },
    {
      "cell_type": "code",
      "source": [
        "# Fetch full dataset\n",
        "# https://github.com/lyst/lightfm/tree/master/examples/movielens#getting-the-data\n",
        "data_mld = fetch_movielens()\n",
        "print(data_mld)"
      ],
      "metadata": {
        "id": "Wp1wCf3EY192",
        "colab": {
          "base_uri": "https://localhost:8080/"
        },
        "outputId": "7695562f-d3b2-479d-d991-4faaf2c22e06"
      },
      "execution_count": 3,
      "outputs": [
        {
          "output_type": "stream",
          "name": "stdout",
          "text": [
            "{'train': <943x1682 sparse matrix of type '<class 'numpy.int32'>'\n",
            "\twith 90570 stored elements in COOrdinate format>, 'test': <943x1682 sparse matrix of type '<class 'numpy.int32'>'\n",
            "\twith 9430 stored elements in COOrdinate format>, 'item_features': <1682x1682 sparse matrix of type '<class 'numpy.float32'>'\n",
            "\twith 1682 stored elements in Compressed Sparse Row format>, 'item_feature_labels': array(['Toy Story (1995)', 'GoldenEye (1995)', 'Four Rooms (1995)', ...,\n",
            "       'Sliding Doors (1998)', 'You So Crazy (1994)',\n",
            "       'Scream of Stone (Schrei aus Stein) (1991)'], dtype=object), 'item_labels': array(['Toy Story (1995)', 'GoldenEye (1995)', 'Four Rooms (1995)', ...,\n",
            "       'Sliding Doors (1998)', 'You So Crazy (1994)',\n",
            "       'Scream of Stone (Schrei aus Stein) (1991)'], dtype=object)}\n"
          ]
        }
      ]
    },
    {
      "cell_type": "code",
      "source": [
        "for key, value in data_mld.items():\n",
        "    print(key, type(value), value.shape)\n",
        "\n",
        "n_users, n_items = data_mld['train'].shape\n",
        "print(n_users, n_items)"
      ],
      "metadata": {
        "colab": {
          "base_uri": "https://localhost:8080/"
        },
        "id": "_gD6rZiwpYmX",
        "outputId": "b7afe6a2-8865-4a3c-f699-38edfcc93234"
      },
      "execution_count": 4,
      "outputs": [
        {
          "output_type": "stream",
          "name": "stdout",
          "text": [
            "train <class 'scipy.sparse.coo.coo_matrix'> (943, 1682)\n",
            "test <class 'scipy.sparse.coo.coo_matrix'> (943, 1682)\n",
            "item_features <class 'scipy.sparse.csr.csr_matrix'> (1682, 1682)\n",
            "item_feature_labels <class 'numpy.ndarray'> (1682,)\n",
            "item_labels <class 'numpy.ndarray'> (1682,)\n",
            "943 1682\n"
          ]
        }
      ]
    },
    {
      "cell_type": "markdown",
      "source": [
        "#### Observations:\n",
        "- 'train' and 'test' are user-item sparse coordinate matrices with size (1682, 1682); each having 90570 and 9430 movie ratings for the 943 users and 1682 movies\n",
        "- 'item_features' is a sparse diagonal CSR matrix for movies with size (1682, 1682)\n",
        "- 'item_feature_labels' and 'item_labels' are arrays of size 1682: consisting of movie titles\n"
      ],
      "metadata": {
        "id": "A2zKXZn7n0st"
      }
    },
    {
      "cell_type": "code",
      "source": [
        "# print(data_mld['train'])\n",
        "# print(data_mld['test'])"
      ],
      "metadata": {
        "id": "G2wjrva4YyvP"
      },
      "execution_count": 5,
      "outputs": []
    },
    {
      "cell_type": "code",
      "source": [
        "# Convert train and test datasets from sparse Coordinate matrix to sparse CSR matrix (to access indices)\n",
        "train_csr_mld = data_mld['train'].tocsr() \n",
        "test_csr_mld = data_mld['test'].tocsr()\n",
        "\n",
        "print(type(train_csr_mld), train_csr_mld.shape)  #<class 'scipy.sparse.csr.csr_matrix'> (943, 1682)\n",
        "print(type(test_csr_mld), test_csr_mld.shape)\n",
        "# print(train_csr_mld)"
      ],
      "metadata": {
        "colab": {
          "base_uri": "https://localhost:8080/"
        },
        "id": "p2ClmEJ6Y6NR",
        "outputId": "290c9ab4-d2e6-46b5-92c0-caadb516f698"
      },
      "execution_count": 6,
      "outputs": [
        {
          "output_type": "stream",
          "name": "stdout",
          "text": [
            "<class 'scipy.sparse.csr.csr_matrix'> (943, 1682)\n",
            "<class 'scipy.sparse.csr.csr_matrix'> (943, 1682)\n"
          ]
        }
      ]
    },
    {
      "cell_type": "code",
      "source": [
        "# Convert train and test datasets from sparse Coordinate matrix to dense matrix \n",
        "train_dense_mld = data_mld['train'].todense() \n",
        "test_dense_mld = data_mld['test'].todense()\n",
        "\n",
        "print(type(train_dense_mld), train_dense_mld.shape)  #<class 'numpy.matrix'> (943, 1682)\n",
        "print(type(test_dense_mld), test_dense_mld.shape)\n",
        "# print(train_dense_mld)"
      ],
      "metadata": {
        "colab": {
          "base_uri": "https://localhost:8080/"
        },
        "id": "3VzAghLDfQTu",
        "outputId": "f71fb84f-1b65-4378-9d69-e17f3082bbe8"
      },
      "execution_count": 7,
      "outputs": [
        {
          "output_type": "stream",
          "name": "stdout",
          "text": [
            "<class 'numpy.matrix'> (943, 1682)\n",
            "<class 'numpy.matrix'> (943, 1682)\n"
          ]
        }
      ]
    },
    {
      "cell_type": "code",
      "source": [
        "# Analyze train_csr_mld & train_dense_mld matrics\n",
        "print(\"train_csr_mld with 1st user's 1st movie's rating\")\n",
        "print(train_csr_mld[0,0])\n",
        "print(\"train_dense_mld with 1st user's 1st movie's rating\")\n",
        "print(train_dense_mld[0,0])\n",
        "\n",
        "print('\\n')\n",
        "print(\"train_csr_mld with 1st user's 5 movies' (coordinate) ratings\")\n",
        "print(train_csr_mld[0,0:5])\n",
        "print(\"train_dense_mld with 1st user's 5 movies' (matrix) ratings\")\n",
        "print(train_dense_mld[0,0:5])\n",
        "\n",
        "print('\\n')\n",
        "print(\"train_csr_mld with 1st movie's (coordinate) ratings (if exists) for user_id in [1,10]\")\n",
        "print(train_csr_mld[0:10,0])\n",
        "print(\"train_dense_mld with 1st movie's (matrix) ratings for user_id in [1,10]\")\n",
        "print(train_dense_mld[0:10,0])\n",
        "\n",
        "print('\\n')\n",
        "print(\"train_csr_mld with 1st 5 movies' (coordinate) ratings (if exists) for user_id in [1,10]\")\n",
        "print(train_csr_mld[0:10,0:5])\n",
        "print(\"train_dense_mld with 1st 5 movies' (matrix) ratings for user_id in [1,10]\")\n",
        "print(train_dense_mld[0:10,0:5])"
      ],
      "metadata": {
        "colab": {
          "base_uri": "https://localhost:8080/"
        },
        "id": "5ZVjdivSY0Ps",
        "outputId": "bd307453-475c-4ea6-aefd-7a57ce8efc24"
      },
      "execution_count": 8,
      "outputs": [
        {
          "output_type": "stream",
          "name": "stdout",
          "text": [
            "train_csr_mld with 1st user's 1st movie's rating\n",
            "5\n",
            "train_dense_mld with 1st user's 1st movie's rating\n",
            "5\n",
            "\n",
            "\n",
            "train_csr_mld with 1st user's 5 movies' (coordinate) ratings\n",
            "  (0, 0)\t5\n",
            "  (0, 1)\t3\n",
            "  (0, 2)\t4\n",
            "  (0, 3)\t3\n",
            "  (0, 4)\t3\n",
            "train_dense_mld with 1st user's 5 movies' (matrix) ratings\n",
            "[[5 3 4 3 3]]\n",
            "\n",
            "\n",
            "train_csr_mld with 1st movie's (coordinate) ratings (if exists) for user_id in [1,10]\n",
            "  (0, 0)\t5\n",
            "  (1, 0)\t4\n",
            "  (5, 0)\t4\n",
            "  (9, 0)\t4\n",
            "train_dense_mld with 1st movie's (matrix) ratings for user_id in [1,10]\n",
            "[[5]\n",
            " [4]\n",
            " [0]\n",
            " [0]\n",
            " [0]\n",
            " [4]\n",
            " [0]\n",
            " [0]\n",
            " [0]\n",
            " [4]]\n",
            "\n",
            "\n",
            "train_csr_mld with 1st 5 movies' (coordinate) ratings (if exists) for user_id in [1,10]\n",
            "  (0, 0)\t5\n",
            "  (0, 1)\t3\n",
            "  (0, 2)\t4\n",
            "  (0, 3)\t3\n",
            "  (0, 4)\t3\n",
            "  (1, 0)\t4\n",
            "  (5, 0)\t4\n",
            "  (6, 3)\t5\n",
            "  (9, 0)\t4\n",
            "  (9, 3)\t4\n",
            "train_dense_mld with 1st 5 movies' (matrix) ratings for user_id in [1,10]\n",
            "[[5 3 4 3 3]\n",
            " [4 0 0 0 0]\n",
            " [0 0 0 0 0]\n",
            " [0 0 0 0 0]\n",
            " [0 0 0 0 0]\n",
            " [4 0 0 0 0]\n",
            " [0 0 0 5 0]\n",
            " [0 0 0 0 0]\n",
            " [0 0 0 0 0]\n",
            " [4 0 0 4 0]]\n"
          ]
        }
      ]
    },
    {
      "cell_type": "code",
      "source": [
        "# Analyze item_features & item_features_dense_mld\n",
        "item_features_csr_mld = data_mld['item_features']\n",
        "item_features_dense_mld = data_mld['item_features'].todense() \n",
        "print(type(item_features_csr_mld), type(item_features_dense_mld))\n",
        "\n",
        "print('\\n')\n",
        "print(\"item_features_csr_mld with 1st user's 1st movie's rating\")\n",
        "print(item_features_csr_mld[0,0])\n",
        "print(\"item_features_dense_mld with 1st user's 1st movie's rating\")\n",
        "print(item_features_dense_mld[0,0])\n",
        "\n",
        "print('\\n')\n",
        "print(\"item_features_csr_mld with 1st 5 movies' (coordinate) ratings (if exists) for user_id in [1,10]\")\n",
        "print(item_features_csr_mld[0:5,0:5])\n",
        "print(\"item_features_dense_mld with 1st 5 movies' (matrix) ratings for user_id in [1,10]\")\n",
        "print(item_features_dense_mld[0:5,0:5])\n"
      ],
      "metadata": {
        "colab": {
          "base_uri": "https://localhost:8080/"
        },
        "id": "soUr0bFuMr5e",
        "outputId": "c3dad795-97e5-4b6c-d45c-8b398bd67903"
      },
      "execution_count": 9,
      "outputs": [
        {
          "output_type": "stream",
          "name": "stdout",
          "text": [
            "<class 'scipy.sparse.csr.csr_matrix'> <class 'numpy.matrix'>\n",
            "\n",
            "\n",
            "item_features_csr_mld with 1st user's 1st movie's rating\n",
            "1.0\n",
            "item_features_dense_mld with 1st user's 1st movie's rating\n",
            "1.0\n",
            "\n",
            "\n",
            "item_features_csr_mld with 1st 5 movies' (coordinate) ratings (if exists) for user_id in [1,10]\n",
            "  (0, 0)\t1.0\n",
            "  (1, 1)\t1.0\n",
            "  (2, 2)\t1.0\n",
            "  (3, 3)\t1.0\n",
            "  (4, 4)\t1.0\n",
            "item_features_dense_mld with 1st 5 movies' (matrix) ratings for user_id in [1,10]\n",
            "[[1. 0. 0. 0. 0.]\n",
            " [0. 1. 0. 0. 0.]\n",
            " [0. 0. 1. 0. 0.]\n",
            " [0. 0. 0. 1. 0.]\n",
            " [0. 0. 0. 0. 1.]]\n"
          ]
        }
      ]
    },
    {
      "cell_type": "code",
      "source": [
        "# Analyze 'item_feature_labels' & 'item_labels'\n",
        "print(type(data_mld['item_feature_labels']), type(data_mld['item_labels']))\n",
        "print(len(data_mld['item_feature_labels']), len(data_mld['item_labels']))\n",
        "print(data_mld['item_feature_labels'])\n",
        "print(data_mld['item_labels'])\n",
        "print('\\n')\n",
        "print(np.unique(data_mld['item_feature_labels'] == data_mld['item_labels'], return_counts=True))\n",
        "print(\"'item_feature_labels' & 'item_labels' are the same arrays\")"
      ],
      "metadata": {
        "colab": {
          "base_uri": "https://localhost:8080/"
        },
        "id": "Gy5mnj42Mrpy",
        "outputId": "49170443-cffe-44e4-9a9f-91df15f43394"
      },
      "execution_count": 10,
      "outputs": [
        {
          "output_type": "stream",
          "name": "stdout",
          "text": [
            "<class 'numpy.ndarray'> <class 'numpy.ndarray'>\n",
            "1682 1682\n",
            "['Toy Story (1995)' 'GoldenEye (1995)' 'Four Rooms (1995)' ...\n",
            " 'Sliding Doors (1998)' 'You So Crazy (1994)'\n",
            " 'Scream of Stone (Schrei aus Stein) (1991)']\n",
            "['Toy Story (1995)' 'GoldenEye (1995)' 'Four Rooms (1995)' ...\n",
            " 'Sliding Doors (1998)' 'You So Crazy (1994)'\n",
            " 'Scream of Stone (Schrei aus Stein) (1991)']\n",
            "\n",
            "\n",
            "(array([ True]), array([1682]))\n",
            "'item_feature_labels' & 'item_labels' are the same arrays\n"
          ]
        }
      ]
    },
    {
      "cell_type": "code",
      "source": [
        "# Analyze top 3 movies for user_id=0\n",
        "user_id = 0\n",
        "# print(data_mld['item_labels'])\n",
        "# print('\\n')\n",
        "# print(data_mld['item_labels'][data_mld['train'].tocsr()[user_id].indices])\n",
        "# print('\\n')\n",
        "\n",
        "known_positives = data_mld['item_labels'][data_mld['train'].tocsr()[user_id].indices]\n",
        "print(\"User %s\" % user_id)\n",
        "print(\"     Known positives:\")\n",
        "for x in known_positives[:3]:\n",
        "  print(\"        %s\" % x)"
      ],
      "metadata": {
        "id": "CNLIfGjvY9fd",
        "outputId": "7c0a5fb3-594b-4e71-f998-1086c171c60b",
        "colab": {
          "base_uri": "https://localhost:8080/"
        }
      },
      "execution_count": 11,
      "outputs": [
        {
          "output_type": "stream",
          "name": "stdout",
          "text": [
            "User 0\n",
            "     Known positives:\n",
            "        Toy Story (1995)\n",
            "        GoldenEye (1995)\n",
            "        Four Rooms (1995)\n"
          ]
        }
      ]
    },
    {
      "cell_type": "code",
      "source": [],
      "metadata": {
        "id": "H-MR41stXGan"
      },
      "execution_count": 11,
      "outputs": []
    },
    {
      "cell_type": "markdown",
      "source": [
        "# Modeling (Notebooks examples)"
      ],
      "metadata": {
        "id": "j6Y08GdYeXPR"
      }
    },
    {
      "cell_type": "markdown",
      "source": [
        "#### Example 1: https://github.com/lyst/lightfm/blob/master/examples/quickstart/short_quickstart.ipynb \n",
        "#### Fitting an implicit feedback model on the MovieLens 100k dataset using \"WARP\" (Weighted Approximate-Rank Pairwise) loss function"
      ],
      "metadata": {
        "id": "p58hkcrBe5fO"
      }
    },
    {
      "cell_type": "code",
      "source": [
        "# Short quickstart\n",
        "from lightfm import LightFM\n",
        "from lightfm.datasets import fetch_movielens\n",
        "from lightfm.evaluation import precision_at_k\n",
        "\n",
        "# Load the MovieLens 100k dataset. Only five\n",
        "# star ratings are treated as positive.\n",
        "data = fetch_movielens(min_rating=5.0)\n",
        "\n",
        "# Instantiate and train the model\n",
        "model = LightFM(loss='warp')\n",
        "model.fit(data['train'], epochs=30, num_threads=2)\n",
        "\n",
        "# Evaluate the trained model\n",
        "test_precision = precision_at_k(model, data['test'], k=5).mean()\n",
        "print(test_precision) # 0.049669746"
      ],
      "metadata": {
        "colab": {
          "base_uri": "https://localhost:8080/"
        },
        "id": "klj3bHdlaJRR",
        "outputId": "d907d388-9cd7-4571-b1e8-4f5110747c28"
      },
      "execution_count": 12,
      "outputs": [
        {
          "output_type": "stream",
          "name": "stdout",
          "text": [
            "0.05389696\n"
          ]
        }
      ]
    },
    {
      "cell_type": "code",
      "source": [],
      "metadata": {
        "id": "Q3znuINPV2Yh"
      },
      "execution_count": 12,
      "outputs": []
    }
  ]
}